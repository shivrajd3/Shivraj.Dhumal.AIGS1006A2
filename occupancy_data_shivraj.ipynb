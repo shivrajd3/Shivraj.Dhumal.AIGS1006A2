{
  "nbformat": 4,
  "nbformat_minor": 0,
  "metadata": {
    "colab": {
      "provenance": []
    },
    "kernelspec": {
      "name": "python3",
      "display_name": "Python 3"
    },
    "language_info": {
      "name": "python"
    }
  },
  "cells": [
    {
      "cell_type": "markdown",
      "source": [
        "**Answer to Qn 2**"
      ],
      "metadata": {
        "id": "crwOmas8jrML"
      }
    },
    {
      "cell_type": "code",
      "source": [
        "import tensorflow as tf\n",
        "from tensorflow.keras.layers import Flatten, Dense\n",
        "from tensorflow.keras import utils\n",
        "from tensorflow.keras.datasets import mnist\n",
        "import numpy as np\n",
        "import matplotlib.pyplot as plt\n",
        "import pandas as pd\n",
        "\n",
        "from sklearn.preprocessing import MinMaxScaler\n",
        "from sklearn.model_selection import train_test_split\n",
        "from tensorflow.keras.utils import to_categorical\n",
        "from sklearn.metrics import classification_report\n",
        "from sklearn.metrics import confusion_matrix\n",
        "import seaborn as sns\n"
      ],
      "metadata": {
        "id": "MVCoUA5fnF6w"
      },
      "execution_count": 1,
      "outputs": []
    },
    {
      "cell_type": "code",
      "source": [
        "!ls *.txt"
      ],
      "metadata": {
        "id": "ySAO-j8iuupE",
        "colab": {
          "base_uri": "https://localhost:8080/"
        },
        "outputId": "d507cc7e-5dfe-465b-d57b-20c74623c962"
      },
      "execution_count": 2,
      "outputs": [
        {
          "output_type": "stream",
          "name": "stdout",
          "text": [
            "datatest2.txt  datatest.txt  datatraining.txt\n"
          ]
        }
      ]
    },
    {
      "cell_type": "code",
      "source": [
        "train_df = pd.read_csv('datatraining.txt')"
      ],
      "metadata": {
        "id": "4Z2VwLvof1y2"
      },
      "execution_count": 3,
      "outputs": []
    },
    {
      "cell_type": "code",
      "source": [
        "test_df = pd.read_csv('datatest.txt')"
      ],
      "metadata": {
        "id": "pxSysSjDKsf2"
      },
      "execution_count": 4,
      "outputs": []
    },
    {
      "cell_type": "code",
      "source": [
        "train_df.shape"
      ],
      "metadata": {
        "colab": {
          "base_uri": "https://localhost:8080/"
        },
        "id": "0wT-APzcqWkF",
        "outputId": "76aa6a08-1a56-45b5-9d4c-eb50139c477b"
      },
      "execution_count": 5,
      "outputs": [
        {
          "output_type": "execute_result",
          "data": {
            "text/plain": [
              "(8143, 7)"
            ]
          },
          "metadata": {},
          "execution_count": 5
        }
      ]
    },
    {
      "cell_type": "code",
      "source": [
        "test_df.shape"
      ],
      "metadata": {
        "colab": {
          "base_uri": "https://localhost:8080/"
        },
        "id": "_eImcBuPqYwR",
        "outputId": "85db18c5-498d-481a-a840-e74bc0209194"
      },
      "execution_count": 6,
      "outputs": [
        {
          "output_type": "execute_result",
          "data": {
            "text/plain": [
              "(2665, 7)"
            ]
          },
          "metadata": {},
          "execution_count": 6
        }
      ]
    },
    {
      "cell_type": "markdown",
      "source": [
        "Qn a. answer: There are **8143** training samples and **2665** test samples."
      ],
      "metadata": {
        "id": "JcKvd3exqcop"
      }
    },
    {
      "cell_type": "code",
      "source": [
        "train_df = train_df.drop(['date'], axis=1)"
      ],
      "metadata": {
        "id": "vfAJ0n3kLYuI"
      },
      "execution_count": 7,
      "outputs": []
    },
    {
      "cell_type": "code",
      "source": [
        "test_df = test_df.drop(['date'], axis=1)"
      ],
      "metadata": {
        "id": "X62K9UR8L2Fe"
      },
      "execution_count": 8,
      "outputs": []
    },
    {
      "cell_type": "code",
      "source": [
        "train_df.head(3)"
      ],
      "metadata": {
        "colab": {
          "base_uri": "https://localhost:8080/",
          "height": 143
        },
        "id": "s9mtZCjbKmWJ",
        "outputId": "8a1fad4e-345e-473b-8739-f210f569a4ae"
      },
      "execution_count": 9,
      "outputs": [
        {
          "output_type": "execute_result",
          "data": {
            "text/plain": [
              "   Temperature  Humidity  Light     CO2  HumidityRatio  Occupancy\n",
              "1        23.18   27.2720  426.0  721.25       0.004793          1\n",
              "2        23.15   27.2675  429.5  714.00       0.004783          1\n",
              "3        23.15   27.2450  426.0  713.50       0.004779          1"
            ],
            "text/html": [
              "\n",
              "  <div id=\"df-2024c0b1-5859-4f60-9b14-bb7601c5069c\">\n",
              "    <div class=\"colab-df-container\">\n",
              "      <div>\n",
              "<style scoped>\n",
              "    .dataframe tbody tr th:only-of-type {\n",
              "        vertical-align: middle;\n",
              "    }\n",
              "\n",
              "    .dataframe tbody tr th {\n",
              "        vertical-align: top;\n",
              "    }\n",
              "\n",
              "    .dataframe thead th {\n",
              "        text-align: right;\n",
              "    }\n",
              "</style>\n",
              "<table border=\"1\" class=\"dataframe\">\n",
              "  <thead>\n",
              "    <tr style=\"text-align: right;\">\n",
              "      <th></th>\n",
              "      <th>Temperature</th>\n",
              "      <th>Humidity</th>\n",
              "      <th>Light</th>\n",
              "      <th>CO2</th>\n",
              "      <th>HumidityRatio</th>\n",
              "      <th>Occupancy</th>\n",
              "    </tr>\n",
              "  </thead>\n",
              "  <tbody>\n",
              "    <tr>\n",
              "      <th>1</th>\n",
              "      <td>23.18</td>\n",
              "      <td>27.2720</td>\n",
              "      <td>426.0</td>\n",
              "      <td>721.25</td>\n",
              "      <td>0.004793</td>\n",
              "      <td>1</td>\n",
              "    </tr>\n",
              "    <tr>\n",
              "      <th>2</th>\n",
              "      <td>23.15</td>\n",
              "      <td>27.2675</td>\n",
              "      <td>429.5</td>\n",
              "      <td>714.00</td>\n",
              "      <td>0.004783</td>\n",
              "      <td>1</td>\n",
              "    </tr>\n",
              "    <tr>\n",
              "      <th>3</th>\n",
              "      <td>23.15</td>\n",
              "      <td>27.2450</td>\n",
              "      <td>426.0</td>\n",
              "      <td>713.50</td>\n",
              "      <td>0.004779</td>\n",
              "      <td>1</td>\n",
              "    </tr>\n",
              "  </tbody>\n",
              "</table>\n",
              "</div>\n",
              "      <button class=\"colab-df-convert\" onclick=\"convertToInteractive('df-2024c0b1-5859-4f60-9b14-bb7601c5069c')\"\n",
              "              title=\"Convert this dataframe to an interactive table.\"\n",
              "              style=\"display:none;\">\n",
              "        \n",
              "  <svg xmlns=\"http://www.w3.org/2000/svg\" height=\"24px\"viewBox=\"0 0 24 24\"\n",
              "       width=\"24px\">\n",
              "    <path d=\"M0 0h24v24H0V0z\" fill=\"none\"/>\n",
              "    <path d=\"M18.56 5.44l.94 2.06.94-2.06 2.06-.94-2.06-.94-.94-2.06-.94 2.06-2.06.94zm-11 1L8.5 8.5l.94-2.06 2.06-.94-2.06-.94L8.5 2.5l-.94 2.06-2.06.94zm10 10l.94 2.06.94-2.06 2.06-.94-2.06-.94-.94-2.06-.94 2.06-2.06.94z\"/><path d=\"M17.41 7.96l-1.37-1.37c-.4-.4-.92-.59-1.43-.59-.52 0-1.04.2-1.43.59L10.3 9.45l-7.72 7.72c-.78.78-.78 2.05 0 2.83L4 21.41c.39.39.9.59 1.41.59.51 0 1.02-.2 1.41-.59l7.78-7.78 2.81-2.81c.8-.78.8-2.07 0-2.86zM5.41 20L4 18.59l7.72-7.72 1.47 1.35L5.41 20z\"/>\n",
              "  </svg>\n",
              "      </button>\n",
              "      \n",
              "  <style>\n",
              "    .colab-df-container {\n",
              "      display:flex;\n",
              "      flex-wrap:wrap;\n",
              "      gap: 12px;\n",
              "    }\n",
              "\n",
              "    .colab-df-convert {\n",
              "      background-color: #E8F0FE;\n",
              "      border: none;\n",
              "      border-radius: 50%;\n",
              "      cursor: pointer;\n",
              "      display: none;\n",
              "      fill: #1967D2;\n",
              "      height: 32px;\n",
              "      padding: 0 0 0 0;\n",
              "      width: 32px;\n",
              "    }\n",
              "\n",
              "    .colab-df-convert:hover {\n",
              "      background-color: #E2EBFA;\n",
              "      box-shadow: 0px 1px 2px rgba(60, 64, 67, 0.3), 0px 1px 3px 1px rgba(60, 64, 67, 0.15);\n",
              "      fill: #174EA6;\n",
              "    }\n",
              "\n",
              "    [theme=dark] .colab-df-convert {\n",
              "      background-color: #3B4455;\n",
              "      fill: #D2E3FC;\n",
              "    }\n",
              "\n",
              "    [theme=dark] .colab-df-convert:hover {\n",
              "      background-color: #434B5C;\n",
              "      box-shadow: 0px 1px 3px 1px rgba(0, 0, 0, 0.15);\n",
              "      filter: drop-shadow(0px 1px 2px rgba(0, 0, 0, 0.3));\n",
              "      fill: #FFFFFF;\n",
              "    }\n",
              "  </style>\n",
              "\n",
              "      <script>\n",
              "        const buttonEl =\n",
              "          document.querySelector('#df-2024c0b1-5859-4f60-9b14-bb7601c5069c button.colab-df-convert');\n",
              "        buttonEl.style.display =\n",
              "          google.colab.kernel.accessAllowed ? 'block' : 'none';\n",
              "\n",
              "        async function convertToInteractive(key) {\n",
              "          const element = document.querySelector('#df-2024c0b1-5859-4f60-9b14-bb7601c5069c');\n",
              "          const dataTable =\n",
              "            await google.colab.kernel.invokeFunction('convertToInteractive',\n",
              "                                                     [key], {});\n",
              "          if (!dataTable) return;\n",
              "\n",
              "          const docLinkHtml = 'Like what you see? Visit the ' +\n",
              "            '<a target=\"_blank\" href=https://colab.research.google.com/notebooks/data_table.ipynb>data table notebook</a>'\n",
              "            + ' to learn more about interactive tables.';\n",
              "          element.innerHTML = '';\n",
              "          dataTable['output_type'] = 'display_data';\n",
              "          await google.colab.output.renderOutput(dataTable, element);\n",
              "          const docLink = document.createElement('div');\n",
              "          docLink.innerHTML = docLinkHtml;\n",
              "          element.appendChild(docLink);\n",
              "        }\n",
              "      </script>\n",
              "    </div>\n",
              "  </div>\n",
              "  "
            ]
          },
          "metadata": {},
          "execution_count": 9
        }
      ]
    },
    {
      "cell_type": "code",
      "source": [
        "train_df['Occupancy'].unique()"
      ],
      "metadata": {
        "colab": {
          "base_uri": "https://localhost:8080/"
        },
        "id": "edS3xZsSPeoV",
        "outputId": "c9382add-ddbb-4079-8447-7cf66e8b6924"
      },
      "execution_count": 10,
      "outputs": [
        {
          "output_type": "execute_result",
          "data": {
            "text/plain": [
              "array([1, 0])"
            ]
          },
          "metadata": {},
          "execution_count": 10
        }
      ]
    },
    {
      "cell_type": "code",
      "source": [
        "test_df.head(3)"
      ],
      "metadata": {
        "colab": {
          "base_uri": "https://localhost:8080/",
          "height": 143
        },
        "id": "U88jvv9nLFZw",
        "outputId": "9d869181-e6f8-49c7-8021-acd26b9f8019"
      },
      "execution_count": 11,
      "outputs": [
        {
          "output_type": "execute_result",
          "data": {
            "text/plain": [
              "     Temperature  Humidity       Light         CO2  HumidityRatio  Occupancy\n",
              "140       23.700    26.272  585.200000  749.200000       0.004764          1\n",
              "141       23.718    26.290  578.400000  760.400000       0.004773          1\n",
              "142       23.730    26.230  572.666667  769.666667       0.004765          1"
            ],
            "text/html": [
              "\n",
              "  <div id=\"df-4e67f924-a3fc-4a1a-8e5a-a62536cb73ab\">\n",
              "    <div class=\"colab-df-container\">\n",
              "      <div>\n",
              "<style scoped>\n",
              "    .dataframe tbody tr th:only-of-type {\n",
              "        vertical-align: middle;\n",
              "    }\n",
              "\n",
              "    .dataframe tbody tr th {\n",
              "        vertical-align: top;\n",
              "    }\n",
              "\n",
              "    .dataframe thead th {\n",
              "        text-align: right;\n",
              "    }\n",
              "</style>\n",
              "<table border=\"1\" class=\"dataframe\">\n",
              "  <thead>\n",
              "    <tr style=\"text-align: right;\">\n",
              "      <th></th>\n",
              "      <th>Temperature</th>\n",
              "      <th>Humidity</th>\n",
              "      <th>Light</th>\n",
              "      <th>CO2</th>\n",
              "      <th>HumidityRatio</th>\n",
              "      <th>Occupancy</th>\n",
              "    </tr>\n",
              "  </thead>\n",
              "  <tbody>\n",
              "    <tr>\n",
              "      <th>140</th>\n",
              "      <td>23.700</td>\n",
              "      <td>26.272</td>\n",
              "      <td>585.200000</td>\n",
              "      <td>749.200000</td>\n",
              "      <td>0.004764</td>\n",
              "      <td>1</td>\n",
              "    </tr>\n",
              "    <tr>\n",
              "      <th>141</th>\n",
              "      <td>23.718</td>\n",
              "      <td>26.290</td>\n",
              "      <td>578.400000</td>\n",
              "      <td>760.400000</td>\n",
              "      <td>0.004773</td>\n",
              "      <td>1</td>\n",
              "    </tr>\n",
              "    <tr>\n",
              "      <th>142</th>\n",
              "      <td>23.730</td>\n",
              "      <td>26.230</td>\n",
              "      <td>572.666667</td>\n",
              "      <td>769.666667</td>\n",
              "      <td>0.004765</td>\n",
              "      <td>1</td>\n",
              "    </tr>\n",
              "  </tbody>\n",
              "</table>\n",
              "</div>\n",
              "      <button class=\"colab-df-convert\" onclick=\"convertToInteractive('df-4e67f924-a3fc-4a1a-8e5a-a62536cb73ab')\"\n",
              "              title=\"Convert this dataframe to an interactive table.\"\n",
              "              style=\"display:none;\">\n",
              "        \n",
              "  <svg xmlns=\"http://www.w3.org/2000/svg\" height=\"24px\"viewBox=\"0 0 24 24\"\n",
              "       width=\"24px\">\n",
              "    <path d=\"M0 0h24v24H0V0z\" fill=\"none\"/>\n",
              "    <path d=\"M18.56 5.44l.94 2.06.94-2.06 2.06-.94-2.06-.94-.94-2.06-.94 2.06-2.06.94zm-11 1L8.5 8.5l.94-2.06 2.06-.94-2.06-.94L8.5 2.5l-.94 2.06-2.06.94zm10 10l.94 2.06.94-2.06 2.06-.94-2.06-.94-.94-2.06-.94 2.06-2.06.94z\"/><path d=\"M17.41 7.96l-1.37-1.37c-.4-.4-.92-.59-1.43-.59-.52 0-1.04.2-1.43.59L10.3 9.45l-7.72 7.72c-.78.78-.78 2.05 0 2.83L4 21.41c.39.39.9.59 1.41.59.51 0 1.02-.2 1.41-.59l7.78-7.78 2.81-2.81c.8-.78.8-2.07 0-2.86zM5.41 20L4 18.59l7.72-7.72 1.47 1.35L5.41 20z\"/>\n",
              "  </svg>\n",
              "      </button>\n",
              "      \n",
              "  <style>\n",
              "    .colab-df-container {\n",
              "      display:flex;\n",
              "      flex-wrap:wrap;\n",
              "      gap: 12px;\n",
              "    }\n",
              "\n",
              "    .colab-df-convert {\n",
              "      background-color: #E8F0FE;\n",
              "      border: none;\n",
              "      border-radius: 50%;\n",
              "      cursor: pointer;\n",
              "      display: none;\n",
              "      fill: #1967D2;\n",
              "      height: 32px;\n",
              "      padding: 0 0 0 0;\n",
              "      width: 32px;\n",
              "    }\n",
              "\n",
              "    .colab-df-convert:hover {\n",
              "      background-color: #E2EBFA;\n",
              "      box-shadow: 0px 1px 2px rgba(60, 64, 67, 0.3), 0px 1px 3px 1px rgba(60, 64, 67, 0.15);\n",
              "      fill: #174EA6;\n",
              "    }\n",
              "\n",
              "    [theme=dark] .colab-df-convert {\n",
              "      background-color: #3B4455;\n",
              "      fill: #D2E3FC;\n",
              "    }\n",
              "\n",
              "    [theme=dark] .colab-df-convert:hover {\n",
              "      background-color: #434B5C;\n",
              "      box-shadow: 0px 1px 3px 1px rgba(0, 0, 0, 0.15);\n",
              "      filter: drop-shadow(0px 1px 2px rgba(0, 0, 0, 0.3));\n",
              "      fill: #FFFFFF;\n",
              "    }\n",
              "  </style>\n",
              "\n",
              "      <script>\n",
              "        const buttonEl =\n",
              "          document.querySelector('#df-4e67f924-a3fc-4a1a-8e5a-a62536cb73ab button.colab-df-convert');\n",
              "        buttonEl.style.display =\n",
              "          google.colab.kernel.accessAllowed ? 'block' : 'none';\n",
              "\n",
              "        async function convertToInteractive(key) {\n",
              "          const element = document.querySelector('#df-4e67f924-a3fc-4a1a-8e5a-a62536cb73ab');\n",
              "          const dataTable =\n",
              "            await google.colab.kernel.invokeFunction('convertToInteractive',\n",
              "                                                     [key], {});\n",
              "          if (!dataTable) return;\n",
              "\n",
              "          const docLinkHtml = 'Like what you see? Visit the ' +\n",
              "            '<a target=\"_blank\" href=https://colab.research.google.com/notebooks/data_table.ipynb>data table notebook</a>'\n",
              "            + ' to learn more about interactive tables.';\n",
              "          element.innerHTML = '';\n",
              "          dataTable['output_type'] = 'display_data';\n",
              "          await google.colab.output.renderOutput(dataTable, element);\n",
              "          const docLink = document.createElement('div');\n",
              "          docLink.innerHTML = docLinkHtml;\n",
              "          element.appendChild(docLink);\n",
              "        }\n",
              "      </script>\n",
              "    </div>\n",
              "  </div>\n",
              "  "
            ]
          },
          "metadata": {},
          "execution_count": 11
        }
      ]
    },
    {
      "cell_type": "code",
      "source": [
        "X_train = train_df.iloc[:,1:-1]"
      ],
      "metadata": {
        "id": "e6LlRH8rKnQK"
      },
      "execution_count": 12,
      "outputs": []
    },
    {
      "cell_type": "code",
      "source": [
        "y_train = train_df.iloc[:,-1]"
      ],
      "metadata": {
        "id": "FBGMQUe4MYGZ"
      },
      "execution_count": 13,
      "outputs": []
    },
    {
      "cell_type": "code",
      "source": [
        "y_train = np.asarray(y_train).astype('int64').reshape((-1,1))"
      ],
      "metadata": {
        "id": "5h_Owrjr30SK"
      },
      "execution_count": 14,
      "outputs": []
    },
    {
      "cell_type": "code",
      "source": [
        "X_test = test_df.iloc[:,1:-1]"
      ],
      "metadata": {
        "id": "UZ7huaS4Mfxv"
      },
      "execution_count": 15,
      "outputs": []
    },
    {
      "cell_type": "code",
      "source": [
        "y_test = test_df.iloc[:,-1]"
      ],
      "metadata": {
        "id": "pJUaB4yPMn5A"
      },
      "execution_count": 16,
      "outputs": []
    },
    {
      "cell_type": "code",
      "source": [
        "y_test = np.asarray(y_test).astype('int64').reshape((-1,1))"
      ],
      "metadata": {
        "id": "zFqer6UM3MyI"
      },
      "execution_count": 17,
      "outputs": []
    },
    {
      "cell_type": "code",
      "source": [
        "X_train.shape, y_train.shape, X_test.shape, y_test.shape"
      ],
      "metadata": {
        "colab": {
          "base_uri": "https://localhost:8080/"
        },
        "id": "2CoMfz6qMp1L",
        "outputId": "f5b82b04-323f-488f-b5a9-3a6beb658611"
      },
      "execution_count": 18,
      "outputs": [
        {
          "output_type": "execute_result",
          "data": {
            "text/plain": [
              "((8143, 4), (8143, 1), (2665, 4), (2665, 1))"
            ]
          },
          "metadata": {},
          "execution_count": 18
        }
      ]
    },
    {
      "cell_type": "code",
      "source": [
        "# dividing training data to get validation data"
      ],
      "metadata": {
        "id": "vByQw6AzMw2u"
      },
      "execution_count": 19,
      "outputs": []
    },
    {
      "cell_type": "code",
      "source": [
        "#X_train, X_valid, y_train, y_valid = train_test_split(X_train, y_train, test_size=0.1)"
      ],
      "metadata": {
        "id": "tIS4Q9l5OEL9"
      },
      "execution_count": 20,
      "outputs": []
    },
    {
      "cell_type": "code",
      "source": [
        "# Using MinMaxScaler to scale the data"
      ],
      "metadata": {
        "id": "06tCJqu0OVEF"
      },
      "execution_count": 21,
      "outputs": []
    },
    {
      "cell_type": "code",
      "source": [
        "scaler = MinMaxScaler()"
      ],
      "metadata": {
        "id": "45xHA8hSOfyZ"
      },
      "execution_count": 22,
      "outputs": []
    },
    {
      "cell_type": "code",
      "source": [
        "X_train_scaled = scaler.fit_transform(X_train)\n",
        "# X_valid_scaled = scaler.transform(X_valid)\n",
        "X_test_scaled = scaler.transform(X_test)"
      ],
      "metadata": {
        "id": "t1X3pAnOOlM3"
      },
      "execution_count": 23,
      "outputs": []
    },
    {
      "cell_type": "code",
      "source": [
        "y_test.shape"
      ],
      "metadata": {
        "colab": {
          "base_uri": "https://localhost:8080/"
        },
        "id": "Fo1aSmYc7Sf-",
        "outputId": "9694f80a-2a1d-449a-dbbd-ca56fc40977f"
      },
      "execution_count": 24,
      "outputs": [
        {
          "output_type": "execute_result",
          "data": {
            "text/plain": [
              "(2665, 1)"
            ]
          },
          "metadata": {},
          "execution_count": 24
        }
      ]
    },
    {
      "cell_type": "code",
      "source": [
        "# changing labels to one hot"
      ],
      "metadata": {
        "id": "dByKW-SrOwdW"
      },
      "execution_count": 25,
      "outputs": []
    },
    {
      "cell_type": "code",
      "source": [
        "#y_train, y_valid, y_test = to_categorical(y_train), to_categorical(y_valid), to_categorical(y_test)"
      ],
      "metadata": {
        "id": "1NCK6ki2O8UC"
      },
      "execution_count": 26,
      "outputs": []
    },
    {
      "cell_type": "code",
      "source": [
        "# y_train, y_test = to_categorical(y_train), to_categorical(y_test)"
      ],
      "metadata": {
        "id": "E1HXNNns2HmB"
      },
      "execution_count": 27,
      "outputs": []
    },
    {
      "cell_type": "code",
      "source": [
        "y_train[2:]"
      ],
      "metadata": {
        "colab": {
          "base_uri": "https://localhost:8080/"
        },
        "id": "9hKhDIQS4MWs",
        "outputId": "68fde3b0-be81-4b6c-b663-0f214ffa6860"
      },
      "execution_count": 28,
      "outputs": [
        {
          "output_type": "execute_result",
          "data": {
            "text/plain": [
              "array([[1],\n",
              "       [1],\n",
              "       [1],\n",
              "       ...,\n",
              "       [1],\n",
              "       [1],\n",
              "       [1]])"
            ]
          },
          "metadata": {},
          "execution_count": 28
        }
      ]
    },
    {
      "cell_type": "code",
      "source": [
        "y_test.shape"
      ],
      "metadata": {
        "colab": {
          "base_uri": "https://localhost:8080/"
        },
        "id": "R8nioGac4OU7",
        "outputId": "61dad111-c433-4155-f2a7-0f57ff4d155f"
      },
      "execution_count": 29,
      "outputs": [
        {
          "output_type": "execute_result",
          "data": {
            "text/plain": [
              "(2665, 1)"
            ]
          },
          "metadata": {},
          "execution_count": 29
        }
      ]
    },
    {
      "cell_type": "code",
      "source": [
        "# building the classification model"
      ],
      "metadata": {
        "id": "PscpecI2PIJi"
      },
      "execution_count": 30,
      "outputs": []
    },
    {
      "cell_type": "code",
      "source": [
        "model_layers_list = []"
      ],
      "metadata": {
        "id": "2IQma72z1gTl"
      },
      "execution_count": 31,
      "outputs": []
    },
    {
      "cell_type": "code",
      "source": [
        "# layers for first try\n",
        "model_layers_list.append([\n",
        "    tf.keras.layers.Dense(10, activation='relu'),\n",
        "    tf.keras.layers.Dense(20, activation='relu'),\n",
        "    tf.keras.layers.Dense(1, activation='sigmoid')\n",
        "])"
      ],
      "metadata": {
        "id": "hHgi_MzC1jS7"
      },
      "execution_count": 32,
      "outputs": []
    },
    {
      "cell_type": "code",
      "source": [
        "# layers with changed number of hidden units in the second layer\n",
        "model_layers_list.append([\n",
        "    tf.keras.layers.Dense(10, activation='relu'),\n",
        "    tf.keras.layers.Dense(50, activation='relu'),\n",
        "    tf.keras.layers.Dense(1, activation='sigmoid')\n",
        "])"
      ],
      "metadata": {
        "id": "067fOAng13n_"
      },
      "execution_count": 33,
      "outputs": []
    },
    {
      "cell_type": "code",
      "source": [
        "# layers with an added hidden unit as a third layer\n",
        "model_layers_list.append([\n",
        "    tf.keras.layers.Dense(10, activation='relu'),\n",
        "    tf.keras.layers.Dense(50, activation='relu'),\n",
        "    tf.keras.layers.Dense(35, activation='relu'),\n",
        "    tf.keras.layers.Dense(1, activation='sigmoid')\n",
        "])"
      ],
      "metadata": {
        "id": "hiv1sYuJ2Btn"
      },
      "execution_count": 34,
      "outputs": []
    },
    {
      "cell_type": "code",
      "source": [
        "def process_data(data):\n",
        "    return np.array(tf.argmax(data,axis=1),dtype='float32')"
      ],
      "metadata": {
        "id": "ANEzHShJ0yez"
      },
      "execution_count": 35,
      "outputs": []
    },
    {
      "cell_type": "code",
      "source": [
        "def execute_prediction_workflow(model_layer):\n",
        "  print(f'Trying for: {model_layer}')\n",
        "  model_class = ''\n",
        "  model_class = tf.keras.Sequential(model_layer)\n",
        "  \n",
        "  # print(model_class.summary())\n",
        "  \n",
        "  model_class.compile(loss='binary_crossentropy',\n",
        "                    optimizer='adam',\n",
        "                    metrics=['accuracy'])\n",
        "  \n",
        "  \n",
        "  fitModel = model_class.fit(X_train_scaled, y_train,\n",
        "                epochs=51, validation_split=0.3, \n",
        "                # verbose=0\n",
        "                )\n",
        "  \n",
        "  y_predict = model_class.predict(X_test_scaled[:1,:])\n",
        "\n",
        "  print(f'Predict shape: {y_predict.shape}')\n",
        "  print(f'Prediction for record: {y_predict[0]}')\n",
        "  print(f'Classification for 1st record: {np.argmax(y_predict[0])}')\n",
        "\n",
        "  train_loss, train_acc = model_class.evaluate(X_train_scaled, y_train)\n",
        "  test_loss, test_acc = model_class.evaluate(X_test_scaled, y_test)\n",
        "\n",
        "  print(f'Classification accuracy on training data: {train_acc}')\n",
        "  print(f'Classification accuracy on test data: {test_acc}')\n",
        "\n",
        "  test_predict = model_class.predict(X_test_scaled)\n",
        "  test_predict_labels = np.argmax(test_predict, axis=1)\n",
        "  conf_matrix = tf.math.confusion_matrix(labels=y_test, predictions=test_predict_labels)\n",
        "  print(f'Confusion matrix on predictions: {conf_matrix}')\n",
        "\n",
        "  fig = plt.figure(figsize = (15,4))\n",
        "  fig.add_subplot(121)\n",
        "  plt.plot(fitModel.history['accuracy'])\n",
        "  plt.plot(fitModel.history['val_accuracy'])\n",
        "  plt.legend(['Training Accuracy','Validation Accuracy'])\n",
        "  plt.title('Training and validation accuracy')\n",
        "  plt.xlabel('Epoch #')\n",
        "  plt.ylabel('Accuracy')\n",
        "\n",
        "  fig.add_subplot(122)\n",
        "  plt.plot(fitModel.history['loss'])\n",
        "  plt.plot(fitModel.history['val_loss'])\n",
        "  plt.legend(['Training Loss','Validation Loss'])\n",
        "  plt.title('Training and validation Loss')\n",
        "  plt.xlabel('Epoch #')\n",
        "  plt.ylabel('Loss')\n",
        "\n",
        "  return model_class\n",
        "\n"
      ],
      "metadata": {
        "id": "jBsIdNl02Klk"
      },
      "execution_count": 36,
      "outputs": []
    },
    {
      "cell_type": "markdown",
      "source": [
        "**Testing our model with the first set of layers - Architecture: 10-h1-1**\n",
        "\n"
      ],
      "metadata": {
        "id": "1YceMjyyn-DI"
      }
    },
    {
      "cell_type": "code",
      "source": [
        "model_class = execute_prediction_workflow(model_layers_list[0])\n",
        "model_class.summary()"
      ],
      "metadata": {
        "colab": {
          "base_uri": "https://localhost:8080/",
          "height": 1000
        },
        "id": "JluBmiPq44E0",
        "outputId": "59d5cb3d-9c8b-4bf4-8d55-35ee15d8b890"
      },
      "execution_count": 37,
      "outputs": [
        {
          "output_type": "stream",
          "name": "stdout",
          "text": [
            "Trying for: [<keras.layers.core.dense.Dense object at 0x7f44675f5390>, <keras.layers.core.dense.Dense object at 0x7f44675f5490>, <keras.layers.core.dense.Dense object at 0x7f44675f5410>]\n",
            "Epoch 1/51\n",
            "179/179 [==============================] - 3s 9ms/step - loss: 0.5560 - accuracy: 0.7732 - val_loss: 0.3321 - val_accuracy: 0.9173\n",
            "Epoch 2/51\n",
            "179/179 [==============================] - 1s 7ms/step - loss: 0.2141 - accuracy: 0.9744 - val_loss: 0.1294 - val_accuracy: 0.9480\n",
            "Epoch 3/51\n",
            "179/179 [==============================] - 1s 7ms/step - loss: 0.1022 - accuracy: 0.9740 - val_loss: 0.1180 - val_accuracy: 0.9525\n",
            "Epoch 4/51\n",
            "179/179 [==============================] - 1s 7ms/step - loss: 0.0827 - accuracy: 0.9758 - val_loss: 0.1147 - val_accuracy: 0.9554\n",
            "Epoch 5/51\n",
            "179/179 [==============================] - 1s 5ms/step - loss: 0.0768 - accuracy: 0.9767 - val_loss: 0.1062 - val_accuracy: 0.9562\n",
            "Epoch 6/51\n",
            "179/179 [==============================] - 1s 6ms/step - loss: 0.0749 - accuracy: 0.9774 - val_loss: 0.1179 - val_accuracy: 0.9587\n",
            "Epoch 7/51\n",
            "179/179 [==============================] - 1s 6ms/step - loss: 0.0730 - accuracy: 0.9774 - val_loss: 0.1092 - val_accuracy: 0.9611\n",
            "Epoch 8/51\n",
            "179/179 [==============================] - 1s 7ms/step - loss: 0.0723 - accuracy: 0.9767 - val_loss: 0.0879 - val_accuracy: 0.9599\n",
            "Epoch 9/51\n",
            "179/179 [==============================] - 1s 7ms/step - loss: 0.0718 - accuracy: 0.9779 - val_loss: 0.1041 - val_accuracy: 0.9648\n",
            "Epoch 10/51\n",
            "179/179 [==============================] - 2s 10ms/step - loss: 0.0706 - accuracy: 0.9789 - val_loss: 0.1136 - val_accuracy: 0.9619\n",
            "Epoch 11/51\n",
            "179/179 [==============================] - 1s 7ms/step - loss: 0.0698 - accuracy: 0.9786 - val_loss: 0.0888 - val_accuracy: 0.9673\n",
            "Epoch 12/51\n",
            "179/179 [==============================] - 1s 5ms/step - loss: 0.0693 - accuracy: 0.9796 - val_loss: 0.0922 - val_accuracy: 0.9656\n",
            "Epoch 13/51\n",
            "179/179 [==============================] - 2s 9ms/step - loss: 0.0685 - accuracy: 0.9805 - val_loss: 0.0773 - val_accuracy: 0.9693\n",
            "Epoch 14/51\n",
            "179/179 [==============================] - 1s 5ms/step - loss: 0.0681 - accuracy: 0.9805 - val_loss: 0.1146 - val_accuracy: 0.9623\n",
            "Epoch 15/51\n",
            "179/179 [==============================] - 1s 6ms/step - loss: 0.0683 - accuracy: 0.9802 - val_loss: 0.0770 - val_accuracy: 0.9697\n",
            "Epoch 16/51\n",
            "179/179 [==============================] - 1s 3ms/step - loss: 0.0675 - accuracy: 0.9804 - val_loss: 0.0998 - val_accuracy: 0.9652\n",
            "Epoch 17/51\n",
            "179/179 [==============================] - 1s 3ms/step - loss: 0.0666 - accuracy: 0.9807 - val_loss: 0.0687 - val_accuracy: 0.9758\n",
            "Epoch 18/51\n",
            "179/179 [==============================] - 1s 3ms/step - loss: 0.0671 - accuracy: 0.9809 - val_loss: 0.1017 - val_accuracy: 0.9652\n",
            "Epoch 19/51\n",
            "179/179 [==============================] - 1s 3ms/step - loss: 0.0658 - accuracy: 0.9812 - val_loss: 0.1128 - val_accuracy: 0.9640\n",
            "Epoch 20/51\n",
            "179/179 [==============================] - 1s 3ms/step - loss: 0.0660 - accuracy: 0.9802 - val_loss: 0.0995 - val_accuracy: 0.9660\n",
            "Epoch 21/51\n",
            "179/179 [==============================] - 0s 3ms/step - loss: 0.0659 - accuracy: 0.9807 - val_loss: 0.0862 - val_accuracy: 0.9701\n",
            "Epoch 22/51\n",
            "179/179 [==============================] - 1s 3ms/step - loss: 0.0657 - accuracy: 0.9809 - val_loss: 0.1068 - val_accuracy: 0.9652\n",
            "Epoch 23/51\n",
            "179/179 [==============================] - 1s 3ms/step - loss: 0.0650 - accuracy: 0.9809 - val_loss: 0.0957 - val_accuracy: 0.9685\n",
            "Epoch 24/51\n",
            "179/179 [==============================] - 1s 4ms/step - loss: 0.0650 - accuracy: 0.9811 - val_loss: 0.1034 - val_accuracy: 0.9660\n",
            "Epoch 25/51\n",
            "179/179 [==============================] - 1s 5ms/step - loss: 0.0644 - accuracy: 0.9809 - val_loss: 0.0849 - val_accuracy: 0.9738\n",
            "Epoch 26/51\n",
            "179/179 [==============================] - 1s 5ms/step - loss: 0.0643 - accuracy: 0.9814 - val_loss: 0.0846 - val_accuracy: 0.9742\n",
            "Epoch 27/51\n",
            "179/179 [==============================] - 1s 6ms/step - loss: 0.0636 - accuracy: 0.9811 - val_loss: 0.0981 - val_accuracy: 0.9697\n",
            "Epoch 28/51\n",
            "179/179 [==============================] - 1s 7ms/step - loss: 0.0635 - accuracy: 0.9812 - val_loss: 0.0805 - val_accuracy: 0.9754\n",
            "Epoch 29/51\n",
            "179/179 [==============================] - 1s 4ms/step - loss: 0.0632 - accuracy: 0.9818 - val_loss: 0.0848 - val_accuracy: 0.9754\n",
            "Epoch 30/51\n",
            "179/179 [==============================] - 1s 3ms/step - loss: 0.0627 - accuracy: 0.9814 - val_loss: 0.0877 - val_accuracy: 0.9754\n",
            "Epoch 31/51\n",
            "179/179 [==============================] - 1s 3ms/step - loss: 0.0630 - accuracy: 0.9816 - val_loss: 0.0722 - val_accuracy: 0.9758\n",
            "Epoch 32/51\n",
            "179/179 [==============================] - 1s 3ms/step - loss: 0.0626 - accuracy: 0.9814 - val_loss: 0.0710 - val_accuracy: 0.9758\n",
            "Epoch 33/51\n",
            "179/179 [==============================] - 1s 3ms/step - loss: 0.0619 - accuracy: 0.9816 - val_loss: 0.0908 - val_accuracy: 0.9754\n",
            "Epoch 34/51\n",
            "179/179 [==============================] - 0s 3ms/step - loss: 0.0617 - accuracy: 0.9816 - val_loss: 0.0920 - val_accuracy: 0.9754\n",
            "Epoch 35/51\n",
            "179/179 [==============================] - 1s 3ms/step - loss: 0.0603 - accuracy: 0.9821 - val_loss: 0.1000 - val_accuracy: 0.9754\n",
            "Epoch 36/51\n",
            "179/179 [==============================] - 0s 3ms/step - loss: 0.0605 - accuracy: 0.9818 - val_loss: 0.0937 - val_accuracy: 0.9754\n",
            "Epoch 37/51\n",
            "179/179 [==============================] - 1s 3ms/step - loss: 0.0597 - accuracy: 0.9818 - val_loss: 0.1047 - val_accuracy: 0.9754\n",
            "Epoch 38/51\n",
            "179/179 [==============================] - 0s 3ms/step - loss: 0.0595 - accuracy: 0.9816 - val_loss: 0.0669 - val_accuracy: 0.9754\n",
            "Epoch 39/51\n",
            "179/179 [==============================] - 1s 3ms/step - loss: 0.0593 - accuracy: 0.9826 - val_loss: 0.0608 - val_accuracy: 0.9758\n",
            "Epoch 40/51\n",
            "179/179 [==============================] - 1s 3ms/step - loss: 0.0588 - accuracy: 0.9821 - val_loss: 0.0721 - val_accuracy: 0.9754\n",
            "Epoch 41/51\n",
            "179/179 [==============================] - 1s 5ms/step - loss: 0.0582 - accuracy: 0.9825 - val_loss: 0.0666 - val_accuracy: 0.9758\n",
            "Epoch 42/51\n",
            "179/179 [==============================] - 1s 5ms/step - loss: 0.0575 - accuracy: 0.9821 - val_loss: 0.0644 - val_accuracy: 0.9758\n",
            "Epoch 43/51\n",
            "179/179 [==============================] - 1s 4ms/step - loss: 0.0576 - accuracy: 0.9821 - val_loss: 0.0668 - val_accuracy: 0.9758\n",
            "Epoch 44/51\n",
            "179/179 [==============================] - 1s 4ms/step - loss: 0.0576 - accuracy: 0.9828 - val_loss: 0.0944 - val_accuracy: 0.9754\n",
            "Epoch 45/51\n",
            "179/179 [==============================] - 1s 5ms/step - loss: 0.0568 - accuracy: 0.9823 - val_loss: 0.0999 - val_accuracy: 0.9754\n",
            "Epoch 46/51\n",
            "179/179 [==============================] - 1s 3ms/step - loss: 0.0567 - accuracy: 0.9825 - val_loss: 0.1001 - val_accuracy: 0.9754\n",
            "Epoch 47/51\n",
            "179/179 [==============================] - 0s 3ms/step - loss: 0.0562 - accuracy: 0.9833 - val_loss: 0.1012 - val_accuracy: 0.9754\n",
            "Epoch 48/51\n",
            "179/179 [==============================] - 1s 3ms/step - loss: 0.0560 - accuracy: 0.9830 - val_loss: 0.0620 - val_accuracy: 0.9758\n",
            "Epoch 49/51\n",
            "179/179 [==============================] - 1s 3ms/step - loss: 0.0560 - accuracy: 0.9823 - val_loss: 0.0705 - val_accuracy: 0.9754\n",
            "Epoch 50/51\n",
            "179/179 [==============================] - 1s 3ms/step - loss: 0.0556 - accuracy: 0.9839 - val_loss: 0.0898 - val_accuracy: 0.9754\n",
            "Epoch 51/51\n",
            "179/179 [==============================] - 0s 3ms/step - loss: 0.0552 - accuracy: 0.9833 - val_loss: 0.0863 - val_accuracy: 0.9754\n",
            "1/1 [==============================] - 0s 84ms/step\n",
            "Predict shape: (1, 1)\n",
            "Prediction for record: [0.8412941]\n",
            "Classification for 1st record: 0\n",
            "255/255 [==============================] - 0s 2ms/step - loss: 0.0641 - accuracy: 0.9802\n",
            "84/84 [==============================] - 0s 2ms/step - loss: 0.0919 - accuracy: 0.9790\n",
            "Classification accuracy on training data: 0.9802284240722656\n",
            "Classification accuracy on test data: 0.9789868593215942\n",
            "84/84 [==============================] - 0s 1ms/step\n",
            "Confusion matrix on predictions: [[1693    0]\n",
            " [ 972    0]]\n",
            "Model: \"sequential\"\n",
            "_________________________________________________________________\n",
            " Layer (type)                Output Shape              Param #   \n",
            "=================================================================\n",
            " dense (Dense)               (None, 10)                50        \n",
            "                                                                 \n",
            " dense_1 (Dense)             (None, 20)                220       \n",
            "                                                                 \n",
            " dense_2 (Dense)             (None, 1)                 21        \n",
            "                                                                 \n",
            "=================================================================\n",
            "Total params: 291\n",
            "Trainable params: 291\n",
            "Non-trainable params: 0\n",
            "_________________________________________________________________\n"
          ]
        },
        {
          "output_type": "display_data",
          "data": {
            "text/plain": [
              "<Figure size 1080x288 with 2 Axes>"
            ],
            "image/png": "[encoded data removed]"
          },
          "metadata": {
            "needs_background": "light"
          }
        }
      ]
    },
    {
      "cell_type": "markdown",
      "source": [
        "**Testing our model with varying the hidden units. Architecture: 10-h1-1**\n",
        "\n"
      ],
      "metadata": {
        "id": "w7a7E-chu_7_"
      }
    },
    {
      "cell_type": "code",
      "source": [
        "model_class = execute_prediction_workflow(model_layers_list[1])\n",
        "model_class.summary()"
      ],
      "metadata": {
        "colab": {
          "base_uri": "https://localhost:8080/",
          "height": 1000
        },
        "id": "Lbo8HrU8QShx",
        "outputId": "8a53b2ae-e8dc-4573-8d09-7c5a6b5ad8e3"
      },
      "execution_count": 38,
      "outputs": [
        {
          "output_type": "stream",
          "name": "stdout",
          "text": [
            "Trying for: [<keras.layers.core.dense.Dense object at 0x7f446760d210>, <keras.layers.core.dense.Dense object at 0x7f44d73bc790>, <keras.layers.core.dense.Dense object at 0x7f446760d910>]\n",
            "Epoch 1/51\n",
            "179/179 [==============================] - 1s 4ms/step - loss: 0.4693 - accuracy: 0.7861 - val_loss: 0.2042 - val_accuracy: 0.9402\n",
            "Epoch 2/51\n",
            "179/179 [==============================] - 1s 3ms/step - loss: 0.1270 - accuracy: 0.9688 - val_loss: 0.0950 - val_accuracy: 0.9521\n",
            "Epoch 3/51\n",
            "179/179 [==============================] - 1s 3ms/step - loss: 0.0819 - accuracy: 0.9767 - val_loss: 0.0841 - val_accuracy: 0.9562\n",
            "Epoch 4/51\n",
            "179/179 [==============================] - 1s 3ms/step - loss: 0.0760 - accuracy: 0.9786 - val_loss: 0.0770 - val_accuracy: 0.9603\n",
            "Epoch 5/51\n",
            "179/179 [==============================] - 1s 3ms/step - loss: 0.0711 - accuracy: 0.9805 - val_loss: 0.0756 - val_accuracy: 0.9619\n",
            "Epoch 6/51\n",
            "179/179 [==============================] - 1s 3ms/step - loss: 0.0678 - accuracy: 0.9816 - val_loss: 0.0683 - val_accuracy: 0.9644\n",
            "Epoch 7/51\n",
            "179/179 [==============================] - 1s 3ms/step - loss: 0.0651 - accuracy: 0.9835 - val_loss: 0.0583 - val_accuracy: 0.9693\n",
            "Epoch 8/51\n",
            "179/179 [==============================] - 1s 3ms/step - loss: 0.0627 - accuracy: 0.9839 - val_loss: 0.0602 - val_accuracy: 0.9730\n",
            "Epoch 9/51\n",
            "179/179 [==============================] - 1s 3ms/step - loss: 0.0608 - accuracy: 0.9844 - val_loss: 0.0612 - val_accuracy: 0.9734\n",
            "Epoch 10/51\n",
            "179/179 [==============================] - 1s 3ms/step - loss: 0.0599 - accuracy: 0.9846 - val_loss: 0.0530 - val_accuracy: 0.9771\n",
            "Epoch 11/51\n",
            "179/179 [==============================] - 1s 3ms/step - loss: 0.0592 - accuracy: 0.9847 - val_loss: 0.0507 - val_accuracy: 0.9808\n",
            "Epoch 12/51\n",
            "179/179 [==============================] - 1s 3ms/step - loss: 0.0579 - accuracy: 0.9846 - val_loss: 0.0406 - val_accuracy: 0.9824\n",
            "Epoch 13/51\n",
            "179/179 [==============================] - 1s 7ms/step - loss: 0.0577 - accuracy: 0.9847 - val_loss: 0.0481 - val_accuracy: 0.9824\n",
            "Epoch 14/51\n",
            "179/179 [==============================] - 1s 4ms/step - loss: 0.0568 - accuracy: 0.9844 - val_loss: 0.0458 - val_accuracy: 0.9836\n",
            "Epoch 15/51\n",
            "179/179 [==============================] - 1s 7ms/step - loss: 0.0563 - accuracy: 0.9849 - val_loss: 0.0473 - val_accuracy: 0.9824\n",
            "Epoch 16/51\n",
            "179/179 [==============================] - 2s 9ms/step - loss: 0.0559 - accuracy: 0.9842 - val_loss: 0.0448 - val_accuracy: 0.9836\n",
            "Epoch 17/51\n",
            "179/179 [==============================] - 1s 3ms/step - loss: 0.0554 - accuracy: 0.9853 - val_loss: 0.1004 - val_accuracy: 0.9685\n",
            "Epoch 18/51\n",
            "179/179 [==============================] - 1s 3ms/step - loss: 0.0558 - accuracy: 0.9846 - val_loss: 0.0489 - val_accuracy: 0.9816\n",
            "Epoch 19/51\n",
            "179/179 [==============================] - 1s 3ms/step - loss: 0.0551 - accuracy: 0.9847 - val_loss: 0.0449 - val_accuracy: 0.9836\n",
            "Epoch 20/51\n",
            "179/179 [==============================] - 1s 3ms/step - loss: 0.0543 - accuracy: 0.9851 - val_loss: 0.0523 - val_accuracy: 0.9804\n",
            "Epoch 21/51\n",
            "179/179 [==============================] - 1s 3ms/step - loss: 0.0545 - accuracy: 0.9853 - val_loss: 0.0506 - val_accuracy: 0.9820\n",
            "Epoch 22/51\n",
            "179/179 [==============================] - 1s 3ms/step - loss: 0.0540 - accuracy: 0.9849 - val_loss: 0.0464 - val_accuracy: 0.9844\n",
            "Epoch 23/51\n",
            "179/179 [==============================] - 1s 3ms/step - loss: 0.0532 - accuracy: 0.9851 - val_loss: 0.0508 - val_accuracy: 0.9844\n",
            "Epoch 24/51\n",
            "179/179 [==============================] - 1s 3ms/step - loss: 0.0531 - accuracy: 0.9854 - val_loss: 0.0573 - val_accuracy: 0.9816\n",
            "Epoch 25/51\n",
            "179/179 [==============================] - 0s 3ms/step - loss: 0.0528 - accuracy: 0.9851 - val_loss: 0.0519 - val_accuracy: 0.9844\n",
            "Epoch 26/51\n",
            "179/179 [==============================] - 1s 3ms/step - loss: 0.0523 - accuracy: 0.9853 - val_loss: 0.0632 - val_accuracy: 0.9808\n",
            "Epoch 27/51\n",
            "179/179 [==============================] - 1s 3ms/step - loss: 0.0523 - accuracy: 0.9849 - val_loss: 0.0643 - val_accuracy: 0.9804\n",
            "Epoch 28/51\n",
            "179/179 [==============================] - 1s 3ms/step - loss: 0.0517 - accuracy: 0.9853 - val_loss: 0.0767 - val_accuracy: 0.9771\n",
            "Epoch 29/51\n",
            "179/179 [==============================] - 1s 3ms/step - loss: 0.0519 - accuracy: 0.9849 - val_loss: 0.0641 - val_accuracy: 0.9808\n",
            "Epoch 30/51\n",
            "179/179 [==============================] - 1s 3ms/step - loss: 0.0514 - accuracy: 0.9853 - val_loss: 0.0680 - val_accuracy: 0.9804\n",
            "Epoch 31/51\n",
            "179/179 [==============================] - 1s 3ms/step - loss: 0.0512 - accuracy: 0.9856 - val_loss: 0.0660 - val_accuracy: 0.9808\n",
            "Epoch 32/51\n",
            "179/179 [==============================] - 1s 3ms/step - loss: 0.0512 - accuracy: 0.9851 - val_loss: 0.0633 - val_accuracy: 0.9812\n",
            "Epoch 33/51\n",
            "179/179 [==============================] - 1s 3ms/step - loss: 0.0507 - accuracy: 0.9851 - val_loss: 0.0943 - val_accuracy: 0.9754\n",
            "Epoch 34/51\n",
            "179/179 [==============================] - 1s 3ms/step - loss: 0.0506 - accuracy: 0.9853 - val_loss: 0.0741 - val_accuracy: 0.9763\n",
            "Epoch 35/51\n",
            "179/179 [==============================] - 1s 3ms/step - loss: 0.0503 - accuracy: 0.9851 - val_loss: 0.0849 - val_accuracy: 0.9754\n",
            "Epoch 36/51\n",
            "179/179 [==============================] - 1s 3ms/step - loss: 0.0500 - accuracy: 0.9853 - val_loss: 0.0630 - val_accuracy: 0.9808\n",
            "Epoch 37/51\n",
            "179/179 [==============================] - 1s 3ms/step - loss: 0.0500 - accuracy: 0.9858 - val_loss: 0.0698 - val_accuracy: 0.9763\n",
            "Epoch 38/51\n",
            "179/179 [==============================] - 1s 3ms/step - loss: 0.0499 - accuracy: 0.9863 - val_loss: 0.0736 - val_accuracy: 0.9758\n",
            "Epoch 39/51\n",
            "179/179 [==============================] - 1s 3ms/step - loss: 0.0495 - accuracy: 0.9858 - val_loss: 0.0697 - val_accuracy: 0.9763\n",
            "Epoch 40/51\n",
            "179/179 [==============================] - 1s 3ms/step - loss: 0.0497 - accuracy: 0.9858 - val_loss: 0.0755 - val_accuracy: 0.9754\n",
            "Epoch 41/51\n",
            "179/179 [==============================] - 1s 3ms/step - loss: 0.0492 - accuracy: 0.9860 - val_loss: 0.1160 - val_accuracy: 0.9754\n",
            "Epoch 42/51\n",
            "179/179 [==============================] - 1s 3ms/step - loss: 0.0491 - accuracy: 0.9860 - val_loss: 0.0665 - val_accuracy: 0.9758\n",
            "Epoch 43/51\n",
            "179/179 [==============================] - 1s 3ms/step - loss: 0.0492 - accuracy: 0.9853 - val_loss: 0.0725 - val_accuracy: 0.9754\n",
            "Epoch 44/51\n",
            "179/179 [==============================] - 1s 3ms/step - loss: 0.0487 - accuracy: 0.9863 - val_loss: 0.0606 - val_accuracy: 0.9771\n",
            "Epoch 45/51\n",
            "179/179 [==============================] - 1s 3ms/step - loss: 0.0488 - accuracy: 0.9861 - val_loss: 0.0838 - val_accuracy: 0.9754\n",
            "Epoch 46/51\n",
            "179/179 [==============================] - 1s 3ms/step - loss: 0.0486 - accuracy: 0.9860 - val_loss: 0.0905 - val_accuracy: 0.9754\n",
            "Epoch 47/51\n",
            "179/179 [==============================] - 1s 3ms/step - loss: 0.0487 - accuracy: 0.9860 - val_loss: 0.0936 - val_accuracy: 0.9754\n",
            "Epoch 48/51\n",
            "179/179 [==============================] - 1s 3ms/step - loss: 0.0481 - accuracy: 0.9861 - val_loss: 0.0533 - val_accuracy: 0.9849\n",
            "Epoch 49/51\n",
            "179/179 [==============================] - 1s 3ms/step - loss: 0.0486 - accuracy: 0.9861 - val_loss: 0.0790 - val_accuracy: 0.9754\n",
            "Epoch 50/51\n",
            "179/179 [==============================] - 1s 3ms/step - loss: 0.0482 - accuracy: 0.9863 - val_loss: 0.0822 - val_accuracy: 0.9754\n",
            "Epoch 51/51\n",
            "179/179 [==============================] - 1s 3ms/step - loss: 0.0484 - accuracy: 0.9861 - val_loss: 0.0859 - val_accuracy: 0.9754\n",
            "1/1 [==============================] - 0s 65ms/step\n",
            "Predict shape: (1, 1)\n",
            "Prediction for record: [0.78077304]\n",
            "Classification for 1st record: 0\n",
            "255/255 [==============================] - 1s 2ms/step - loss: 0.0591 - accuracy: 0.9828\n",
            "84/84 [==============================] - 0s 2ms/step - loss: 0.1080 - accuracy: 0.9752\n",
            "Classification accuracy on training data: 0.9828073382377625\n",
            "Classification accuracy on test data: 0.9752345085144043\n",
            "84/84 [==============================] - 0s 2ms/step\n",
            "Confusion matrix on predictions: [[1693    0]\n",
            " [ 972    0]]\n",
            "Model: \"sequential_1\"\n",
            "_________________________________________________________________\n",
            " Layer (type)                Output Shape              Param #   \n",
            "=================================================================\n",
            " dense_3 (Dense)             (None, 10)                50        \n",
            "                                                                 \n",
            " dense_4 (Dense)             (None, 50)                550       \n",
            "                                                                 \n",
            " dense_5 (Dense)             (None, 1)                 51        \n",
            "                                                                 \n",
            "=================================================================\n",
            "Total params: 651\n",
            "Trainable params: 651\n",
            "Non-trainable params: 0\n",
            "_________________________________________________________________\n"
          ]
        },
        {
          "output_type": "display_data",
          "data": {
            "text/plain": [
              "<Figure size 1080x288 with 2 Axes>"
            ],
            "image/png": "[encoded data removed]"
          },
          "metadata": {
            "needs_background": "light"
          }
        }
      ]
    },
    {
      "cell_type": "markdown",
      "source": [
        "**Testing our model with adding a hidden layer. Architecture: 10-h1-h2-1**"
      ],
      "metadata": {
        "id": "x_hZG5Wzvz7t"
      }
    },
    {
      "cell_type": "code",
      "source": [
        "model_class = execute_prediction_workflow(model_layers_list[2])\n",
        "model_class.summary()"
      ],
      "metadata": {
        "colab": {
          "base_uri": "https://localhost:8080/",
          "height": 1000
        },
        "id": "rwwEHo12u-1_",
        "outputId": "8287b511-a3d8-4f9c-e3d0-18f183351bb2"
      },
      "execution_count": 39,
      "outputs": [
        {
          "output_type": "stream",
          "name": "stdout",
          "text": [
            "Trying for: [<keras.layers.core.dense.Dense object at 0x7f4467605c90>, <keras.layers.core.dense.Dense object at 0x7f4467605f10>, <keras.layers.core.dense.Dense object at 0x7f44676054d0>, <keras.layers.core.dense.Dense object at 0x7f4467600810>]\n",
            "Epoch 1/51\n",
            "179/179 [==============================] - 1s 4ms/step - loss: 0.3023 - accuracy: 0.8953 - val_loss: 0.1007 - val_accuracy: 0.9587\n",
            "Epoch 2/51\n",
            "179/179 [==============================] - 1s 3ms/step - loss: 0.0762 - accuracy: 0.9788 - val_loss: 0.0970 - val_accuracy: 0.9525\n",
            "Epoch 3/51\n",
            "179/179 [==============================] - 1s 4ms/step - loss: 0.0676 - accuracy: 0.9823 - val_loss: 0.0878 - val_accuracy: 0.9578\n",
            "Epoch 4/51\n",
            "179/179 [==============================] - 1s 4ms/step - loss: 0.0629 - accuracy: 0.9840 - val_loss: 0.0733 - val_accuracy: 0.9615\n",
            "Epoch 5/51\n",
            "179/179 [==============================] - 1s 3ms/step - loss: 0.0595 - accuracy: 0.9851 - val_loss: 0.0714 - val_accuracy: 0.9648\n",
            "Epoch 6/51\n",
            "179/179 [==============================] - 1s 3ms/step - loss: 0.0576 - accuracy: 0.9844 - val_loss: 0.0917 - val_accuracy: 0.9681\n",
            "Epoch 7/51\n",
            "179/179 [==============================] - 1s 3ms/step - loss: 0.0563 - accuracy: 0.9851 - val_loss: 0.1002 - val_accuracy: 0.9677\n",
            "Epoch 8/51\n",
            "179/179 [==============================] - 1s 3ms/step - loss: 0.0545 - accuracy: 0.9847 - val_loss: 0.0895 - val_accuracy: 0.9701\n",
            "Epoch 9/51\n",
            "179/179 [==============================] - 1s 4ms/step - loss: 0.0546 - accuracy: 0.9847 - val_loss: 0.1247 - val_accuracy: 0.9685\n",
            "Epoch 10/51\n",
            "179/179 [==============================] - 1s 3ms/step - loss: 0.0528 - accuracy: 0.9849 - val_loss: 0.0935 - val_accuracy: 0.9758\n",
            "Epoch 11/51\n",
            "179/179 [==============================] - 1s 3ms/step - loss: 0.0526 - accuracy: 0.9858 - val_loss: 0.0990 - val_accuracy: 0.9767\n",
            "Epoch 12/51\n",
            "179/179 [==============================] - 1s 3ms/step - loss: 0.0513 - accuracy: 0.9851 - val_loss: 0.0801 - val_accuracy: 0.9758\n",
            "Epoch 13/51\n",
            "179/179 [==============================] - 1s 4ms/step - loss: 0.0515 - accuracy: 0.9854 - val_loss: 0.1462 - val_accuracy: 0.9697\n",
            "Epoch 14/51\n",
            "179/179 [==============================] - 1s 3ms/step - loss: 0.0515 - accuracy: 0.9851 - val_loss: 0.1861 - val_accuracy: 0.9689\n",
            "Epoch 15/51\n",
            "179/179 [==============================] - 1s 3ms/step - loss: 0.0508 - accuracy: 0.9853 - val_loss: 0.1957 - val_accuracy: 0.9677\n",
            "Epoch 16/51\n",
            "179/179 [==============================] - 1s 3ms/step - loss: 0.0501 - accuracy: 0.9854 - val_loss: 0.1274 - val_accuracy: 0.9758\n",
            "Epoch 17/51\n",
            "179/179 [==============================] - 1s 3ms/step - loss: 0.0501 - accuracy: 0.9854 - val_loss: 0.1407 - val_accuracy: 0.9758\n",
            "Epoch 18/51\n",
            "179/179 [==============================] - 1s 3ms/step - loss: 0.0497 - accuracy: 0.9858 - val_loss: 0.2014 - val_accuracy: 0.9705\n",
            "Epoch 19/51\n",
            "179/179 [==============================] - 1s 3ms/step - loss: 0.0491 - accuracy: 0.9858 - val_loss: 0.1451 - val_accuracy: 0.9754\n",
            "Epoch 20/51\n",
            "179/179 [==============================] - 1s 3ms/step - loss: 0.0497 - accuracy: 0.9854 - val_loss: 0.2623 - val_accuracy: 0.8870\n",
            "Epoch 21/51\n",
            "179/179 [==============================] - 1s 3ms/step - loss: 0.0482 - accuracy: 0.9856 - val_loss: 0.2194 - val_accuracy: 0.9677\n",
            "Epoch 22/51\n",
            "179/179 [==============================] - 1s 3ms/step - loss: 0.0481 - accuracy: 0.9856 - val_loss: 0.1741 - val_accuracy: 0.9734\n",
            "Epoch 23/51\n",
            "179/179 [==============================] - 1s 3ms/step - loss: 0.0479 - accuracy: 0.9858 - val_loss: 0.1867 - val_accuracy: 0.9750\n",
            "Epoch 24/51\n",
            "179/179 [==============================] - 1s 3ms/step - loss: 0.0485 - accuracy: 0.9858 - val_loss: 0.1277 - val_accuracy: 0.9758\n",
            "Epoch 25/51\n",
            "179/179 [==============================] - 1s 3ms/step - loss: 0.0479 - accuracy: 0.9856 - val_loss: 0.2016 - val_accuracy: 0.9754\n",
            "Epoch 26/51\n",
            "179/179 [==============================] - 1s 3ms/step - loss: 0.0480 - accuracy: 0.9861 - val_loss: 0.1672 - val_accuracy: 0.9758\n",
            "Epoch 27/51\n",
            "179/179 [==============================] - 1s 3ms/step - loss: 0.0476 - accuracy: 0.9858 - val_loss: 0.3641 - val_accuracy: 0.8363\n",
            "Epoch 28/51\n",
            "179/179 [==============================] - 1s 3ms/step - loss: 0.0466 - accuracy: 0.9858 - val_loss: 0.1318 - val_accuracy: 0.9758\n",
            "Epoch 29/51\n",
            "179/179 [==============================] - 1s 3ms/step - loss: 0.0471 - accuracy: 0.9863 - val_loss: 0.1802 - val_accuracy: 0.9758\n",
            "Epoch 30/51\n",
            "179/179 [==============================] - 1s 3ms/step - loss: 0.0466 - accuracy: 0.9858 - val_loss: 0.1619 - val_accuracy: 0.9758\n",
            "Epoch 31/51\n",
            "179/179 [==============================] - 1s 3ms/step - loss: 0.0468 - accuracy: 0.9858 - val_loss: 0.1381 - val_accuracy: 0.9750\n",
            "Epoch 32/51\n",
            "179/179 [==============================] - 1s 3ms/step - loss: 0.0468 - accuracy: 0.9863 - val_loss: 0.2232 - val_accuracy: 0.9697\n",
            "Epoch 33/51\n",
            "179/179 [==============================] - 1s 3ms/step - loss: 0.0464 - accuracy: 0.9861 - val_loss: 0.2318 - val_accuracy: 0.9758\n",
            "Epoch 34/51\n",
            "179/179 [==============================] - 1s 3ms/step - loss: 0.0454 - accuracy: 0.9854 - val_loss: 0.1545 - val_accuracy: 0.9758\n",
            "Epoch 35/51\n",
            "179/179 [==============================] - 1s 3ms/step - loss: 0.0456 - accuracy: 0.9854 - val_loss: 0.1870 - val_accuracy: 0.9754\n",
            "Epoch 36/51\n",
            "179/179 [==============================] - 1s 3ms/step - loss: 0.0449 - accuracy: 0.9861 - val_loss: 0.2190 - val_accuracy: 0.9754\n",
            "Epoch 37/51\n",
            "179/179 [==============================] - 1s 3ms/step - loss: 0.0444 - accuracy: 0.9858 - val_loss: 0.2002 - val_accuracy: 0.9734\n",
            "Epoch 38/51\n",
            "179/179 [==============================] - 1s 3ms/step - loss: 0.0438 - accuracy: 0.9863 - val_loss: 0.1374 - val_accuracy: 0.9623\n",
            "Epoch 39/51\n",
            "179/179 [==============================] - 1s 4ms/step - loss: 0.0440 - accuracy: 0.9860 - val_loss: 0.1927 - val_accuracy: 0.9673\n",
            "Epoch 40/51\n",
            "179/179 [==============================] - 1s 3ms/step - loss: 0.0427 - accuracy: 0.9860 - val_loss: 0.1785 - val_accuracy: 0.9644\n",
            "Epoch 41/51\n",
            "179/179 [==============================] - 1s 3ms/step - loss: 0.0440 - accuracy: 0.9854 - val_loss: 0.1754 - val_accuracy: 0.9615\n",
            "Epoch 42/51\n",
            "179/179 [==============================] - 1s 3ms/step - loss: 0.0414 - accuracy: 0.9858 - val_loss: 0.2045 - val_accuracy: 0.9640\n",
            "Epoch 43/51\n",
            "179/179 [==============================] - 1s 3ms/step - loss: 0.0423 - accuracy: 0.9860 - val_loss: 0.1669 - val_accuracy: 0.9546\n",
            "Epoch 44/51\n",
            "179/179 [==============================] - 1s 3ms/step - loss: 0.0419 - accuracy: 0.9860 - val_loss: 0.2599 - val_accuracy: 0.9472\n",
            "Epoch 45/51\n",
            "179/179 [==============================] - 1s 3ms/step - loss: 0.0408 - accuracy: 0.9865 - val_loss: 0.2012 - val_accuracy: 0.9599\n",
            "Epoch 46/51\n",
            "179/179 [==============================] - 1s 3ms/step - loss: 0.0402 - accuracy: 0.9856 - val_loss: 0.2093 - val_accuracy: 0.9492\n",
            "Epoch 47/51\n",
            "179/179 [==============================] - 1s 3ms/step - loss: 0.0403 - accuracy: 0.9861 - val_loss: 0.2306 - val_accuracy: 0.9447\n",
            "Epoch 48/51\n",
            "179/179 [==============================] - 1s 3ms/step - loss: 0.0387 - accuracy: 0.9863 - val_loss: 0.2349 - val_accuracy: 0.9488\n",
            "Epoch 49/51\n",
            "179/179 [==============================] - 1s 3ms/step - loss: 0.0390 - accuracy: 0.9858 - val_loss: 0.2404 - val_accuracy: 0.9456\n",
            "Epoch 50/51\n",
            "179/179 [==============================] - 1s 3ms/step - loss: 0.0374 - accuracy: 0.9861 - val_loss: 0.2482 - val_accuracy: 0.9464\n",
            "Epoch 51/51\n",
            "179/179 [==============================] - 1s 3ms/step - loss: 0.0392 - accuracy: 0.9856 - val_loss: 0.2295 - val_accuracy: 0.9464\n",
            "1/1 [==============================] - 0s 63ms/step\n",
            "Predict shape: (1, 1)\n",
            "Prediction for record: [0.13189545]\n",
            "Classification for 1st record: 0\n",
            "255/255 [==============================] - 0s 2ms/step - loss: 0.0940 - accuracy: 0.9745\n",
            "84/84 [==============================] - 0s 2ms/step - loss: 0.1148 - accuracy: 0.9598\n",
            "Classification accuracy on training data: 0.9744566082954407\n",
            "Classification accuracy on test data: 0.9598498940467834\n",
            "84/84 [==============================] - 0s 1ms/step\n",
            "Confusion matrix on predictions: [[1693    0]\n",
            " [ 972    0]]\n",
            "Model: \"sequential_2\"\n",
            "_________________________________________________________________\n",
            " Layer (type)                Output Shape              Param #   \n",
            "=================================================================\n",
            " dense_6 (Dense)             (None, 10)                50        \n",
            "                                                                 \n",
            " dense_7 (Dense)             (None, 50)                550       \n",
            "                                                                 \n",
            " dense_8 (Dense)             (None, 35)                1785      \n",
            "                                                                 \n",
            " dense_9 (Dense)             (None, 1)                 36        \n",
            "                                                                 \n",
            "=================================================================\n",
            "Total params: 2,421\n",
            "Trainable params: 2,421\n",
            "Non-trainable params: 0\n",
            "_________________________________________________________________\n"
          ]
        },
        {
          "output_type": "display_data",
          "data": {
            "text/plain": [
              "<Figure size 1080x288 with 2 Axes>"
            ],
            "image/png": "[encoded data removed]"
          },
          "metadata": {
            "needs_background": "light"
          }
        }
      ]
    },
    {
      "cell_type": "markdown",
      "source": [
        "**Adding an additional hidden layer had a very little effect on the accuracy of the test data.**\n",
        "\n"
      ],
      "metadata": {
        "id": "7Bnvk6KLwo-P"
      }
    },
    {
      "cell_type": "code",
      "source": [],
      "metadata": {
        "id": "UWsMFUHWU8sj"
      },
      "execution_count": 39,
      "outputs": []
    }
  ]
}